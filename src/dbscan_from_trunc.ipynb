{
 "cells": [
  {
   "cell_type": "code",
   "execution_count": 2,
   "id": "a1dfe697-9186-437b-bf41-35408c840540",
   "metadata": {},
   "outputs": [
    {
     "name": "stdout",
     "output_type": "stream",
     "text": [
      "Requirement already satisfied: pandas in /opt/homebrew/Cellar/jupyterlab/4.4.3_1/libexec/lib/python3.13/site-packages (2.3.0)\n",
      "Requirement already satisfied: numpy in /opt/homebrew/Cellar/jupyterlab/4.4.3_1/libexec/lib/python3.13/site-packages (2.3.0)\n",
      "Requirement already satisfied: scikit-learn in /opt/homebrew/Cellar/jupyterlab/4.4.3_1/libexec/lib/python3.13/site-packages (1.7.0)\n",
      "Requirement already satisfied: matplotlib in /opt/homebrew/Cellar/jupyterlab/4.4.3_1/libexec/lib/python3.13/site-packages (3.10.3)\n",
      "Requirement already satisfied: seaborn in /opt/homebrew/Cellar/jupyterlab/4.4.3_1/libexec/lib/python3.13/site-packages (0.13.2)\n",
      "Requirement already satisfied: python-dateutil>=2.8.2 in /opt/homebrew/Cellar/jupyterlab/4.4.3_1/libexec/lib/python3.13/site-packages (from pandas) (2.9.0.post0)\n",
      "Requirement already satisfied: pytz>=2020.1 in /opt/homebrew/Cellar/jupyterlab/4.4.3_1/libexec/lib/python3.13/site-packages (from pandas) (2025.2)\n",
      "Requirement already satisfied: tzdata>=2022.7 in /opt/homebrew/Cellar/jupyterlab/4.4.3_1/libexec/lib/python3.13/site-packages (from pandas) (2025.2)\n",
      "Requirement already satisfied: scipy>=1.8.0 in /opt/homebrew/Cellar/jupyterlab/4.4.3_1/libexec/lib/python3.13/site-packages (from scikit-learn) (1.15.3)\n",
      "Requirement already satisfied: joblib>=1.2.0 in /opt/homebrew/Cellar/jupyterlab/4.4.3_1/libexec/lib/python3.13/site-packages (from scikit-learn) (1.5.1)\n",
      "Requirement already satisfied: threadpoolctl>=3.1.0 in /opt/homebrew/Cellar/jupyterlab/4.4.3_1/libexec/lib/python3.13/site-packages (from scikit-learn) (3.6.0)\n",
      "Requirement already satisfied: contourpy>=1.0.1 in /opt/homebrew/Cellar/jupyterlab/4.4.3_1/libexec/lib/python3.13/site-packages (from matplotlib) (1.3.2)\n",
      "Requirement already satisfied: cycler>=0.10 in /opt/homebrew/Cellar/jupyterlab/4.4.3_1/libexec/lib/python3.13/site-packages (from matplotlib) (0.12.1)\n",
      "Requirement already satisfied: fonttools>=4.22.0 in /opt/homebrew/Cellar/jupyterlab/4.4.3_1/libexec/lib/python3.13/site-packages (from matplotlib) (4.58.3)\n",
      "Requirement already satisfied: kiwisolver>=1.3.1 in /opt/homebrew/Cellar/jupyterlab/4.4.3_1/libexec/lib/python3.13/site-packages (from matplotlib) (1.4.8)\n",
      "Requirement already satisfied: packaging>=20.0 in /opt/homebrew/Cellar/jupyterlab/4.4.3_1/libexec/lib/python3.13/site-packages (from matplotlib) (25.0)\n",
      "Requirement already satisfied: pillow>=8 in /opt/homebrew/Cellar/jupyterlab/4.4.3_1/libexec/lib/python3.13/site-packages (from matplotlib) (11.2.1)\n",
      "Requirement already satisfied: pyparsing>=2.3.1 in /opt/homebrew/Cellar/jupyterlab/4.4.3_1/libexec/lib/python3.13/site-packages (from matplotlib) (3.2.3)\n",
      "Requirement already satisfied: six>=1.5 in /opt/homebrew/Cellar/jupyterlab/4.4.3_1/libexec/lib/python3.13/site-packages (from python-dateutil>=2.8.2->pandas) (1.17.0)\n",
      "Note: you may need to restart the kernel to use updated packages.\n"
     ]
    }
   ],
   "source": [
    "pip install pandas numpy scikit-learn matplotlib seaborn"
   ]
  },
  {
   "cell_type": "code",
   "execution_count": 3,
   "id": "6adb1ac4-166d-4433-be3a-525b174bcc1e",
   "metadata": {},
   "outputs": [],
   "source": [
    "import pandas as pd\n",
    "import numpy as np\n",
    "from sklearn.cluster import DBSCAN\n",
    "from sklearn.metrics import silhouette_score\n",
    "import matplotlib.pyplot as plt\n",
    "import seaborn as sns\n",
    "import csv"
   ]
  },
  {
   "cell_type": "code",
   "execution_count": 4,
   "id": "32428c04-09fc-409b-92a8-104b76816323",
   "metadata": {},
   "outputs": [
    {
     "name": "stdout",
     "output_type": "stream",
     "text": [
      "Selecting relevant features for DBSCAN...\n"
     ]
    }
   ],
   "source": [
    "# Load SVD files\n",
    "chi_df = pd.read_csv(\"CHI_trunc.csv\")\n",
    "nyc_df = pd.read_csv(\"NYC_trunc.csv\")\n",
    "\n",
    "# Add back state labels for alignment and safety checks\n",
    "chi_df[\"state\"] = \"CHI\"\n",
    "nyc_df[\"state\"] = \"NYC\"\n",
    "\n",
    "full_df = pd.concat([chi_df, nyc_df], axis=0).reset_index(drop=True)\n",
    "\n",
    "# Prototype\n",
    "proto_df = full_df.sample(frac=0.05, random_state=42)\n",
    "\n",
    "# Select features\n",
    "print(\"Selecting relevant features for DBSCAN...\")\n",
    "\n",
    "keep_cols = (\n",
    "    [f\"unit_svd_{i}\" for i in range(1, 21)] +\n",
    "    ['us_aqi_max', 'us_aqi_pm2_5_max', 'us_aqi_pm10_max',\n",
    "     'us_aqi_ozone_max', 'us_aqi_carbon_monoxide_max', 'us_aqi_sulphur_dioxide_max',\n",
    "     'us_aqi_nitrogen_dioxide_max', 'us_aqi_max_lag',\n",
    "     'apparent_temperature_max', 'relative_humidity_2m_mean',\n",
    "     'wind_speed_10m_mean']\n",
    ")\n",
    "\n",
    "# Check for missing columns\n",
    "missing = [col for col in keep_cols if col not in proto_df.columns]\n",
    "if missing:\n",
    "    print(\"Missing columns:\", missing)\n",
    "\n",
    "# Filter and cast for DBSCAN\n",
    "proto_df = proto_df[keep_cols].dropna()\n",
    "X_proto = proto_df.astype(float)"
   ]
  },
  {
   "cell_type": "code",
   "execution_count": 5,
   "id": "96511272-98ff-451b-a70f-848099d490c2",
   "metadata": {},
   "outputs": [
    {
     "name": "stdout",
     "output_type": "stream",
     "text": [
      "Sweeping DBSCAN parameters...\n",
      "→ eps=0.50, min_samples=3, clusters=1454, noise=0, silhouette=0.7518\n",
      "→ eps=0.50, min_samples=5, clusters=1453, noise=4, silhouette=0.7518\n",
      "→ eps=0.50, min_samples=10, clusters=1331, noise=985, silhouette=0.7190\n",
      "→ eps=1.00, min_samples=3, clusters=836, noise=0, silhouette=0.3017\n",
      "→ eps=1.00, min_samples=5, clusters=835, noise=4, silhouette=0.3017\n",
      "→ eps=1.00, min_samples=10, clusters=762, noise=591, silhouette=0.2833\n",
      "→ eps=1.50, min_samples=3, clusters=204, noise=0, silhouette=-0.2228\n",
      "→ eps=1.50, min_samples=5, clusters=203, noise=4, silhouette=-0.2228\n",
      "→ eps=1.50, min_samples=10, clusters=185, noise=143, silhouette=-0.2218\n",
      "→ eps=2.00, min_samples=3, clusters=71, noise=0, silhouette=-0.0625\n",
      "→ eps=2.00, min_samples=5, clusters=71, noise=0, silhouette=-0.0625\n",
      "→ eps=2.00, min_samples=10, clusters=67, noise=34, silhouette=-0.0635\n",
      "→ eps=2.50, min_samples=3, clusters=31, noise=0, silhouette=0.0585\n",
      "→ eps=2.50, min_samples=5, clusters=31, noise=0, silhouette=0.0585\n",
      "→ eps=2.50, min_samples=10, clusters=27, noise=34, silhouette=0.0608\n",
      "→ eps=3.00, min_samples=3, clusters=8, noise=0, silhouette=0.2725\n",
      "→ eps=3.00, min_samples=5, clusters=8, noise=0, silhouette=0.2725\n",
      "→ eps=3.00, min_samples=10, clusters=5, noise=26, silhouette=0.3338\n",
      "→ eps=3.50, min_samples=3, clusters=3, noise=0, silhouette=0.5536\n",
      "→ eps=3.50, min_samples=5, clusters=3, noise=0, silhouette=0.5536\n",
      "→ eps=3.50, min_samples=10, clusters=2, noise=8, silhouette=0.5536\n",
      "→ eps=4.00, min_samples=3, clusters=1, insufficient\n",
      "→ eps=4.00, min_samples=5, clusters=1, insufficient\n",
      "→ eps=4.00, min_samples=10, clusters=1, insufficient\n",
      "→ eps=4.50, min_samples=3, clusters=1, insufficient\n",
      "→ eps=4.50, min_samples=5, clusters=1, insufficient\n",
      "→ eps=4.50, min_samples=10, clusters=1, insufficient\n",
      "→ eps=5.00, min_samples=3, clusters=1, insufficient\n",
      "→ eps=5.00, min_samples=5, clusters=1, insufficient\n",
      "→ eps=5.00, min_samples=10, clusters=1, insufficient\n"
     ]
    }
   ],
   "source": [
    "# Parameter sweep\n",
    "print(\"Sweeping DBSCAN parameters...\")\n",
    "eps_values = np.linspace(0.5, 5.0, 10)\n",
    "min_samples_values = [3, 5, 10]\n",
    "\n",
    "best_score = -1\n",
    "best_params = None\n",
    "\n",
    "for eps in eps_values:\n",
    "    for min_samples in min_samples_values:\n",
    "        dbscan = DBSCAN(eps=eps, min_samples=min_samples)\n",
    "        labels = dbscan.fit_predict(X_proto)\n",
    "        n_clusters = len(set(labels)) - (1 if -1 in labels else 0)\n",
    "        n_noise = list(labels).count(-1)\n",
    "\n",
    "        if n_clusters > 1:\n",
    "            score = silhouette_score(X_proto, labels)\n",
    "            print(f\"→ eps={eps:.2f}, min_samples={min_samples}, clusters={n_clusters}, noise={n_noise}, silhouette={score:.4f}\")\n",
    "            if score > best_score:\n",
    "                best_score = score\n",
    "                best_params = (eps, min_samples)\n",
    "        else:\n",
    "            print(f\"→ eps={eps:.2f}, min_samples={min_samples}, clusters={n_clusters}, insufficient\")"
   ]
  },
  {
   "cell_type": "code",
   "execution_count": 6,
   "id": "4c5fd4bf-ce0e-47c9-ab08-80597de020ed",
   "metadata": {},
   "outputs": [
    {
     "name": "stdout",
     "output_type": "stream",
     "text": [
      "\n",
      " Best DBSCAN params: eps=0.50, min_samples=3\n",
      " Final silhouette score: 0.7518\n"
     ]
    },
    {
     "name": "stderr",
     "output_type": "stream",
     "text": [
      "/var/folders/fj/956h637n1ldfjg02jngmlmjw0000gq/T/ipykernel_36403/375333424.py:20: UserWarning: Tight layout not applied. The bottom and top margins cannot be made large enough to accommodate all Axes decorations.\n",
      "  plt.tight_layout()\n"
     ]
    },
    {
     "name": "stdout",
     "output_type": "stream",
     "text": [
      " Saved: dbscan_proto_clusters.png\n"
     ]
    }
   ],
   "source": [
    "# DBSCAN Fit & Visualization\n",
    "if best_params:\n",
    "    print(f\"\\n Best DBSCAN params: eps={best_params[0]:.2f}, min_samples={best_params[1]}\")\n",
    "    dbscan_final = DBSCAN(eps=best_params[0], min_samples=best_params[1])\n",
    "    labels_final = dbscan_final.fit_predict(X_proto)\n",
    "    proto_df['Cluster'] = labels_final\n",
    "\n",
    "    silhouette_final = silhouette_score(X_proto, labels_final)\n",
    "    print(f\" Final silhouette score: {silhouette_final:.4f}\")\n",
    "\n",
    "    plt.figure(figsize=(8, 6))\n",
    "    sns.scatterplot(\n",
    "        x=X_proto.iloc[:, 0], y=X_proto.iloc[:, 1],\n",
    "        hue=proto_df['Cluster'], palette='tab20', alpha=0.6, legend='full'\n",
    "    )\n",
    "    plt.xlabel(\"SVD Component 1\")\n",
    "    plt.ylabel(\"SVD Component 2\")\n",
    "    plt.title(f\"DBSCAN Clustering (eps={best_params[0]:.2f}, min_samples={best_params[1]})\")\n",
    "    plt.grid(True)\n",
    "    plt.tight_layout()\n",
    "    plt.savefig(\"dbscan_proto_clusters.png\")\n",
    "    plt.close()\n",
    "    print(\" Saved: dbscan_proto_clusters.png\")"
   ]
  },
  {
   "cell_type": "code",
   "execution_count": 7,
   "id": "c9bda41b-14a8-49d6-854a-b599feaf4368",
   "metadata": {},
   "outputs": [
    {
     "name": "stdout",
     "output_type": "stream",
     "text": [
      "Running DBSCAN on full dataset...\n",
      "Saved: full_with_dbscan.csv\n"
     ]
    }
   ],
   "source": [
    "# DBSCAN on full dataset\n",
    "print(\"Running DBSCAN on full dataset...\")\n",
    "full_df_cluster_input = full_df[keep_cols].dropna().astype(float)\n",
    "full_df['Cluster'] = dbscan_final.fit_predict(full_df_cluster_input)\n",
    "full_df.to_csv(\"full_with_dbscan.csv\", index=False)\n",
    "print(\"Saved: full_with_dbscan.csv\")"
   ]
  },
  {
   "cell_type": "code",
   "execution_count": 8,
   "id": "e0b0c220-9520-408c-9e7e-07b1d7ce2fa1",
   "metadata": {},
   "outputs": [
    {
     "name": "stdout",
     "output_type": "stream",
     "text": [
      "Concatenating DBSCAN clusters with final_cleaned.csv...\n"
     ]
    },
    {
     "name": "stderr",
     "output_type": "stream",
     "text": [
      "/var/folders/fj/956h637n1ldfjg02jngmlmjw0000gq/T/ipykernel_36403/1441210504.py:5: DtypeWarning: Columns (1) have mixed types. Specify dtype option on import or set low_memory=False.\n",
      "  final_df = pd.read_csv(\"final_cleaned.csv\")\n"
     ]
    },
    {
     "name": "stdout",
     "output_type": "stream",
     "text": [
      " Final dataset saved: trunc-svd_dbscan_final.csv\n"
     ]
    }
   ],
   "source": [
    "# Combine with final_cleaned.csv\n",
    "print(\"Concatenating DBSCAN clusters with final_cleaned.csv...\")\n",
    "\n",
    "# Load final cleaned dataset\n",
    "final_df = pd.read_csv(\"final_cleaned.csv\")\n",
    "\n",
    "# Sort final_df by city then date, to align with CHI followed by NYC in full_df\n",
    "final_df = final_df.sort_values(by=[\"state\", \"date\"]).reset_index(drop=True)\n",
    "\n",
    "# Safety check: row count cmatch\n",
    "if len(final_df) != len(full_df):\n",
    "    raise ValueError(f\" Row count mismatch: final_cleaned={len(final_df)}, full_df={len(full_df)}\")\n",
    "\n",
    "# Assign cluster labels from full_df to final_df\n",
    "final_df['Cluster'] = full_df['Cluster'].values\n",
    "\n",
    "# Save output\n",
    "final_df.to_csv(\"trunc-svd_dbscan_final.csv\", index=False)\n",
    "print(\" Final dataset saved: trunc-svd_dbscan_final.csv\")"
   ]
  },
  {
   "cell_type": "code",
   "execution_count": null,
   "id": "8c9aba98-c00c-4242-a419-1b71c6c19c56",
   "metadata": {},
   "outputs": [],
   "source": []
  }
 ],
 "metadata": {
  "kernelspec": {
   "display_name": "Python 3 (ipykernel)",
   "language": "python",
   "name": "python3"
  },
  "language_info": {
   "codemirror_mode": {
    "name": "ipython",
    "version": 3
   },
   "file_extension": ".py",
   "mimetype": "text/x-python",
   "name": "python",
   "nbconvert_exporter": "python",
   "pygments_lexer": "ipython3",
   "version": "3.13.4"
  }
 },
 "nbformat": 4,
 "nbformat_minor": 5
}
