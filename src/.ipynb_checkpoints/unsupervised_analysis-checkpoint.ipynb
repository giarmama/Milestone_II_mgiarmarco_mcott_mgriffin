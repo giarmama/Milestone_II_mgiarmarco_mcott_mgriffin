{
 "cells": [
  {
   "cell_type": "code",
   "execution_count": 1,
   "id": "f65a30aa-5c35-4dfc-931c-90aca80553b4",
   "metadata": {},
   "outputs": [
    {
     "name": "stdout",
     "output_type": "stream",
     "text": [
      "Requirement already satisfied: pandas in /opt/homebrew/Cellar/jupyterlab/4.4.3_3/libexec/lib/python3.13/site-packages (2.3.0)\n",
      "Requirement already satisfied: numpy in /opt/homebrew/Cellar/jupyterlab/4.4.3_3/libexec/lib/python3.13/site-packages (2.3.1)\n",
      "Requirement already satisfied: scikit-learn in /opt/homebrew/Cellar/jupyterlab/4.4.3_3/libexec/lib/python3.13/site-packages (1.7.0)\n",
      "Requirement already satisfied: matplotlib in /opt/homebrew/Cellar/jupyterlab/4.4.3_3/libexec/lib/python3.13/site-packages (3.10.3)\n",
      "Requirement already satisfied: seaborn in /opt/homebrew/Cellar/jupyterlab/4.4.3_3/libexec/lib/python3.13/site-packages (0.13.2)\n",
      "Requirement already satisfied: python-dateutil>=2.8.2 in /opt/homebrew/Cellar/jupyterlab/4.4.3_3/libexec/lib/python3.13/site-packages (from pandas) (2.9.0.post0)\n",
      "Requirement already satisfied: pytz>=2020.1 in /opt/homebrew/Cellar/jupyterlab/4.4.3_3/libexec/lib/python3.13/site-packages (from pandas) (2025.2)\n",
      "Requirement already satisfied: tzdata>=2022.7 in /opt/homebrew/Cellar/jupyterlab/4.4.3_3/libexec/lib/python3.13/site-packages (from pandas) (2025.2)\n",
      "Requirement already satisfied: scipy>=1.8.0 in /opt/homebrew/Cellar/jupyterlab/4.4.3_3/libexec/lib/python3.13/site-packages (from scikit-learn) (1.15.3)\n",
      "Requirement already satisfied: joblib>=1.2.0 in /opt/homebrew/Cellar/jupyterlab/4.4.3_3/libexec/lib/python3.13/site-packages (from scikit-learn) (1.5.1)\n",
      "Requirement already satisfied: threadpoolctl>=3.1.0 in /opt/homebrew/Cellar/jupyterlab/4.4.3_3/libexec/lib/python3.13/site-packages (from scikit-learn) (3.6.0)\n",
      "Requirement already satisfied: contourpy>=1.0.1 in /opt/homebrew/Cellar/jupyterlab/4.4.3_3/libexec/lib/python3.13/site-packages (from matplotlib) (1.3.2)\n",
      "Requirement already satisfied: cycler>=0.10 in /opt/homebrew/Cellar/jupyterlab/4.4.3_3/libexec/lib/python3.13/site-packages (from matplotlib) (0.12.1)\n",
      "Requirement already satisfied: fonttools>=4.22.0 in /opt/homebrew/Cellar/jupyterlab/4.4.3_3/libexec/lib/python3.13/site-packages (from matplotlib) (4.58.4)\n",
      "Requirement already satisfied: kiwisolver>=1.3.1 in /opt/homebrew/Cellar/jupyterlab/4.4.3_3/libexec/lib/python3.13/site-packages (from matplotlib) (1.4.8)\n",
      "Requirement already satisfied: packaging>=20.0 in /opt/homebrew/Cellar/jupyterlab/4.4.3_3/libexec/lib/python3.13/site-packages (from matplotlib) (25.0)\n",
      "Requirement already satisfied: pillow>=8 in /opt/homebrew/Cellar/jupyterlab/4.4.3_3/libexec/lib/python3.13/site-packages (from matplotlib) (11.2.1)\n",
      "Requirement already satisfied: pyparsing>=2.3.1 in /opt/homebrew/Cellar/jupyterlab/4.4.3_3/libexec/lib/python3.13/site-packages (from matplotlib) (3.2.3)\n",
      "Requirement already satisfied: six>=1.5 in /opt/homebrew/Cellar/jupyterlab/4.4.3_3/libexec/lib/python3.13/site-packages (from python-dateutil>=2.8.2->pandas) (1.17.0)\n",
      "Note: you may need to restart the kernel to use updated packages.\n"
     ]
    }
   ],
   "source": [
    "pip install pandas numpy scikit-learn matplotlib seaborn"
   ]
  },
  {
   "cell_type": "code",
   "execution_count": 2,
   "id": "cab25d96-c617-46f4-b889-22e9a31e34cf",
   "metadata": {},
   "outputs": [],
   "source": [
    "import pandas as pd\n",
    "import numpy as np\n",
    "from sklearn.cluster import KMeans, DBSCAN, AgglomerativeClustering\n",
    "from sklearn.metrics import silhouette_score\n",
    "from sklearn.preprocessing import StandardScaler\n",
    "import matplotlib.pyplot as plt\n",
    "import seaborn as sns\n",
    "from sklearn.metrics import silhouette_score, calinski_harabasz_score, davies_bouldin_score"
   ]
  },
  {
   "cell_type": "code",
   "execution_count": 3,
   "id": "70aa5a71-6493-403e-be03-eac5fc97e1b1",
   "metadata": {},
   "outputs": [
    {
     "name": "stdout",
     "output_type": "stream",
     "text": [
      "Loading Truncated SVD-transformed data...\n"
     ]
    }
   ],
   "source": [
    "# Load data, combine CSVs\n",
    "print(\"Loading Truncated SVD-transformed data...\")\n",
    "chi_df = pd.read_csv(\"CHI_trunc.csv\")\n",
    "nyc_df = pd.read_csv(\"NYC_trunc.csv\")\n",
    "chi_df[\"state\"] = \"CHI\"\n",
    "nyc_df[\"state\"] = \"NYC\"\n",
    "full_df = pd.concat([chi_df, nyc_df], axis=0).reset_index(drop=True)\n",
    "\n",
    "# Key column groups\n",
    "svd_cols = [f\"unit_svd_{i}\" for i in range(1, 21)]\n",
    "context_cols = [\n",
    "    'us_aqi_max', 'us_aqi_pm2_5_max', 'us_aqi_pm10_max',\n",
    "    'us_aqi_ozone_max', 'us_aqi_carbon_monoxide_max', 'us_aqi_sulphur_dioxide_max',\n",
    "    'us_aqi_nitrogen_dioxide_max', 'us_aqi_max_lag',\n",
    "    'apparent_temperature_max', 'relative_humidity_2m_mean', 'wind_speed_10m_mean'\n",
    "]\n",
    "keep_cols = svd_cols + context_cols"
   ]
  },
  {
   "cell_type": "code",
   "execution_count": 4,
   "id": "99701174-ecc5-4a4d-8eb5-4c138c087314",
   "metadata": {},
   "outputs": [
    {
     "name": "stdout",
     "output_type": "stream",
     "text": [
      "Running DBSCAN parameter sweep on prototype...\n",
      "→ eps=0.50, min_samples=5, silhouette=0.7518\n",
      "→ eps=0.50, min_samples=10, silhouette=0.7190\n",
      "→ eps=1.00, min_samples=5, silhouette=0.3017\n",
      "→ eps=1.00, min_samples=10, silhouette=0.2833\n",
      "→ eps=1.50, min_samples=5, silhouette=-0.2228\n",
      "→ eps=1.50, min_samples=10, silhouette=-0.2218\n",
      "→ eps=2.00, min_samples=10, silhouette=-0.0635\n",
      "→ eps=2.50, min_samples=10, silhouette=0.0608\n",
      "→ eps=3.00, min_samples=10, silhouette=0.3338\n",
      "→ eps=3.50, min_samples=10, silhouette=0.5536\n",
      "Best DBSCAN parameters: eps=0.50, min_samples=5, silhouette=0.7518\n"
     ]
    }
   ],
   "source": [
    "# DBSCAN on data sample\n",
    "print(\"Running DBSCAN parameter sweep on prototype...\")\n",
    "proto_df = full_df.sample(frac=0.05, random_state=42).dropna(subset=keep_cols)\n",
    "X_proto = proto_df[keep_cols].astype(float)\n",
    "\n",
    "best_score = -1\n",
    "best_params = None\n",
    "for eps in np.linspace(0.5, 5.0, 10):\n",
    "    for min_samples in [3, 5, 10]:\n",
    "        labels = DBSCAN(eps=eps, min_samples=min_samples).fit_predict(X_proto)\n",
    "        if len(set(labels)) > 1 and -1 in labels:\n",
    "            score = silhouette_score(X_proto, labels)\n",
    "            print(f\"→ eps={eps:.2f}, min_samples={min_samples}, silhouette={score:.4f}\")\n",
    "            if score > best_score:\n",
    "                best_score = score\n",
    "                best_params = (eps, min_samples)\n",
    "\n",
    "print(f\"Best DBSCAN parameters: eps={best_params[0]:.2f}, min_samples={best_params[1]}, silhouette={best_score:.4f}\")\n"
   ]
  },
  {
   "cell_type": "code",
   "execution_count": 5,
   "id": "0a9f5055-7fd2-4c22-b8c9-0e14823b1f25",
   "metadata": {},
   "outputs": [
    {
     "name": "stdout",
     "output_type": "stream",
     "text": [
      "Applying DBSCAN to full dataset...\n",
      "DBSCAN result: 1453 clusters (excluding noise)\n"
     ]
    }
   ],
   "source": [
    "# DBSCAN on full dataset\n",
    "print(\"Applying DBSCAN to full dataset...\")\n",
    "full_clean = full_df.dropna(subset=keep_cols)\n",
    "X_full = full_clean[keep_cols].astype(float)\n",
    "dbscan = DBSCAN(eps=best_params[0], min_samples=best_params[1])\n",
    "full_clean[\"dbscan_cluster\"] = dbscan.fit_predict(X_full)\n",
    "\n",
    "n_clusters = len(set(full_clean[\"dbscan_cluster\"])) - (1 if -1 in full_clean[\"dbscan_cluster\"] else 0)\n",
    "print(f\"DBSCAN result: {n_clusters} clusters (excluding noise)\")"
   ]
  },
  {
   "cell_type": "code",
   "execution_count": 6,
   "id": "44a69dc6-8f93-4d6e-8814-2a9a026678f1",
   "metadata": {},
   "outputs": [
    {
     "name": "stdout",
     "output_type": "stream",
     "text": [
      "Tuning meta-clustering (Agglomerative) on DBSCAN cluster means...\n",
      "Sweeping number of cluster types (n_clusters):\n",
      "n=2: silhouette=0.363, CH=468.0, DB=1.425\n",
      "n=3: silhouette=0.345, CH=337.4, DB=1.371\n",
      "n=4: silhouette=0.122, CH=294.1, DB=1.972\n",
      "n=5: silhouette=0.124, CH=277.1, DB=1.822\n",
      "n=6: silhouette=0.108, CH=258.7, DB=1.868\n",
      "n=7: silhouette=0.118, CH=249.7, DB=1.774\n",
      "n=8: silhouette=0.125, CH=237.5, DB=1.706\n",
      "n=9: silhouette=0.109, CH=225.7, DB=1.716\n",
      "n=10: silhouette=0.099, CH=213.2, DB=1.717\n"
     ]
    },
    {
     "data": {
      "image/png": "[encoded data removed]",
      "text/plain": [
       "<Figure size 1000x400 with 1 Axes>"
      ]
     },
     "metadata": {},
     "output_type": "display_data"
    }
   ],
   "source": [
    "# Meta clustering on full dataset DBSCAN clusters\n",
    "print(\"Tuning meta-clustering (Agglomerative) on DBSCAN cluster means...\")\n",
    "\n",
    "# Compute DBSCAN cluster means\n",
    "cluster_means = full_clean.groupby(\"dbscan_cluster\")[context_cols].mean()\n",
    "cluster_sizes = full_clean[\"dbscan_cluster\"].value_counts().rename(\"size\")\n",
    "cluster_summary = cluster_means.join(cluster_sizes)\n",
    "cluster_summary = cluster_summary[cluster_summary[\"size\"] >= 10]\n",
    "cluster_summary = cluster_summary.drop(index=-1, errors=\"ignore\")\n",
    "\n",
    "# Normalize features\n",
    "scaler = StandardScaler()\n",
    "X_meta = scaler.fit_transform(cluster_summary[context_cols])\n",
    "\n",
    "# Parameter sweep\n",
    "results = []\n",
    "print(\"Sweeping number of cluster types (n_clusters):\")\n",
    "for n in range(2, 11):\n",
    "    model = AgglomerativeClustering(n_clusters=n)\n",
    "    labels = model.fit_predict(X_meta)\n",
    "\n",
    "    sil = silhouette_score(X_meta, labels)\n",
    "    ch = calinski_harabasz_score(X_meta, labels)\n",
    "    db = davies_bouldin_score(X_meta, labels)\n",
    "\n",
    "    results.append((n, sil, ch, db))\n",
    "    print(f\"n={n}: silhouette={sil:.3f}, CH={ch:.1f}, DB={db:.3f}\")\n",
    "\n",
    "# Plot to determine best n_clusters\n",
    "import matplotlib.pyplot as plt\n",
    "\n",
    "results_df = pd.DataFrame(results, columns=[\"n_clusters\", \"silhouette\", \"calinski_harabasz\", \"davies_bouldin\"])\n",
    "plt.figure(figsize=(10, 4))\n",
    "plt.plot(results_df[\"n_clusters\"], results_df[\"silhouette\"], marker='o', label=\"Silhouette\")\n",
    "plt.plot(results_df[\"n_clusters\"], results_df[\"davies_bouldin\"], marker='s', label=\"Davies-Bouldin\")\n",
    "plt.xlabel(\"n_clusters\")\n",
    "plt.title(\"Meta-Clustering Quality Metrics\")\n",
    "plt.legend()\n",
    "plt.grid(True)\n",
    "plt.tight_layout()\n",
    "plt.show()"
   ]
  },
  {
   "cell_type": "code",
   "execution_count": 7,
   "id": "d2b08b0c-b810-49a5-9103-b4257174ef25",
   "metadata": {},
   "outputs": [],
   "source": [
    "# Use selected best n_clusters\n",
    "chosen_n = 3\n",
    "meta_model = AgglomerativeClustering(n_clusters=chosen_n)\n",
    "cluster_summary[\"meta_cluster\"] = meta_model.fit_predict(X_meta)\n",
    "\n",
    "# Assign back to rows\n",
    "full_clean[\"meta_cluster\"] = full_clean[\"dbscan_cluster\"].map(cluster_summary[\"meta_cluster\"])"
   ]
  },
  {
   "cell_type": "code",
   "execution_count": 8,
   "id": "5fce276c-a6e7-4574-b06e-51eb6153cec5",
   "metadata": {},
   "outputs": [],
   "source": [
    "# Summar table of meta clusters\n",
    "# print(\"\\n📘 Cluster Type Summary (interpretable features only):\")\n",
    "# summary_table = cluster_summary.groupby(\"meta_cluster\")[context_cols + [\"size\"]].mean().round(2)\n",
    "# print(summary_table)"
   ]
  },
  {
   "cell_type": "code",
   "execution_count": 14,
   "id": "e29fcd68-615c-4087-958e-ceba70f335ba",
   "metadata": {},
   "outputs": [
    {
     "name": "stdout",
     "output_type": "stream",
     "text": [
      "Meta-Cluster Type Summary (color-coded z-scores):\n"
     ]
    },
    {
     "data": {
      "text/html": [
       "<style type=\"text/css\">\n",
       "#T_cb1f1_row1_col1, #T_cb1f1_row1_col2, #T_cb1f1_row1_col3, #T_cb1f1_row1_col5, #T_cb1f1_row1_col6, #T_cb1f1_row1_col7, #T_cb1f1_row2_col1, #T_cb1f1_row2_col4, #T_cb1f1_row2_col8, #T_cb1f1_row2_col9 {\n",
       "  background-color: darkred;\n",
       "  color: white;\n",
       "}\n",
       "#T_cb1f1_row1_col11 {\n",
       "  background-color: lightgreen;\n",
       "}\n",
       "#T_cb1f1_row2_col2, #T_cb1f1_row2_col3 {\n",
       "  background-color: lightcoral;\n",
       "}\n",
       "</style>\n",
       "<table id=\"T_cb1f1\">\n",
       "  <thead>\n",
       "    <tr>\n",
       "      <th class=\"blank level0\" >&nbsp;</th>\n",
       "      <th id=\"T_cb1f1_level0_col0\" class=\"col_heading level0 col0\" >cluster_name</th>\n",
       "      <th id=\"T_cb1f1_level0_col1\" class=\"col_heading level0 col1\" >us_aqi_max</th>\n",
       "      <th id=\"T_cb1f1_level0_col2\" class=\"col_heading level0 col2\" >us_aqi_pm2_5_max</th>\n",
       "      <th id=\"T_cb1f1_level0_col3\" class=\"col_heading level0 col3\" >us_aqi_pm10_max</th>\n",
       "      <th id=\"T_cb1f1_level0_col4\" class=\"col_heading level0 col4\" >us_aqi_ozone_max</th>\n",
       "      <th id=\"T_cb1f1_level0_col5\" class=\"col_heading level0 col5\" >us_aqi_carbon_monoxide_max</th>\n",
       "      <th id=\"T_cb1f1_level0_col6\" class=\"col_heading level0 col6\" >us_aqi_sulphur_dioxide_max</th>\n",
       "      <th id=\"T_cb1f1_level0_col7\" class=\"col_heading level0 col7\" >us_aqi_nitrogen_dioxide_max</th>\n",
       "      <th id=\"T_cb1f1_level0_col8\" class=\"col_heading level0 col8\" >us_aqi_max_lag</th>\n",
       "      <th id=\"T_cb1f1_level0_col9\" class=\"col_heading level0 col9\" >apparent_temperature_max</th>\n",
       "      <th id=\"T_cb1f1_level0_col10\" class=\"col_heading level0 col10\" >relative_humidity_2m_mean</th>\n",
       "      <th id=\"T_cb1f1_level0_col11\" class=\"col_heading level0 col11\" >wind_speed_10m_mean</th>\n",
       "    </tr>\n",
       "    <tr>\n",
       "      <th class=\"index_name level0\" >meta_cluster</th>\n",
       "      <th class=\"blank col0\" >&nbsp;</th>\n",
       "      <th class=\"blank col1\" >&nbsp;</th>\n",
       "      <th class=\"blank col2\" >&nbsp;</th>\n",
       "      <th class=\"blank col3\" >&nbsp;</th>\n",
       "      <th class=\"blank col4\" >&nbsp;</th>\n",
       "      <th class=\"blank col5\" >&nbsp;</th>\n",
       "      <th class=\"blank col6\" >&nbsp;</th>\n",
       "      <th class=\"blank col7\" >&nbsp;</th>\n",
       "      <th class=\"blank col8\" >&nbsp;</th>\n",
       "      <th class=\"blank col9\" >&nbsp;</th>\n",
       "      <th class=\"blank col10\" >&nbsp;</th>\n",
       "      <th class=\"blank col11\" >&nbsp;</th>\n",
       "    </tr>\n",
       "  </thead>\n",
       "  <tbody>\n",
       "    <tr>\n",
       "      <th id=\"T_cb1f1_level0_row0\" class=\"row_heading level0 row0\" >0</th>\n",
       "      <td id=\"T_cb1f1_row0_col0\" class=\"data row0 col0\" >Average Conditions</td>\n",
       "      <td id=\"T_cb1f1_row0_col1\" class=\"data row0 col1\" >-0.35</td>\n",
       "      <td id=\"T_cb1f1_row0_col2\" class=\"data row0 col2\" >-0.27</td>\n",
       "      <td id=\"T_cb1f1_row0_col3\" class=\"data row0 col3\" >-0.28</td>\n",
       "      <td id=\"T_cb1f1_row0_col4\" class=\"data row0 col4\" >-0.29</td>\n",
       "      <td id=\"T_cb1f1_row0_col5\" class=\"data row0 col5\" >-0.20</td>\n",
       "      <td id=\"T_cb1f1_row0_col6\" class=\"data row0 col6\" >-0.15</td>\n",
       "      <td id=\"T_cb1f1_row0_col7\" class=\"data row0 col7\" >-0.10</td>\n",
       "      <td id=\"T_cb1f1_row0_col8\" class=\"data row0 col8\" >-0.27</td>\n",
       "      <td id=\"T_cb1f1_row0_col9\" class=\"data row0 col9\" >-0.18</td>\n",
       "      <td id=\"T_cb1f1_row0_col10\" class=\"data row0 col10\" >-0.06</td>\n",
       "      <td id=\"T_cb1f1_row0_col11\" class=\"data row0 col11\" >0.13</td>\n",
       "    </tr>\n",
       "    <tr>\n",
       "      <th id=\"T_cb1f1_level0_row1\" class=\"row_heading level0 row1\" >1</th>\n",
       "      <td id=\"T_cb1f1_row1_col0\" class=\"data row1 col0\" >Heavy Air Pollution with Stagnant Air</td>\n",
       "      <td id=\"T_cb1f1_row1_col1\" class=\"data row1 col1\" >1.01</td>\n",
       "      <td id=\"T_cb1f1_row1_col2\" class=\"data row1 col2\" >1.79</td>\n",
       "      <td id=\"T_cb1f1_row1_col3\" class=\"data row1 col3\" >1.82</td>\n",
       "      <td id=\"T_cb1f1_row1_col4\" class=\"data row1 col4\" >0.13</td>\n",
       "      <td id=\"T_cb1f1_row1_col5\" class=\"data row1 col5\" >1.96</td>\n",
       "      <td id=\"T_cb1f1_row1_col6\" class=\"data row1 col6\" >1.53</td>\n",
       "      <td id=\"T_cb1f1_row1_col7\" class=\"data row1 col7\" >1.19</td>\n",
       "      <td id=\"T_cb1f1_row1_col8\" class=\"data row1 col8\" >0.49</td>\n",
       "      <td id=\"T_cb1f1_row1_col9\" class=\"data row1 col9\" >0.25</td>\n",
       "      <td id=\"T_cb1f1_row1_col10\" class=\"data row1 col10\" >0.13</td>\n",
       "      <td id=\"T_cb1f1_row1_col11\" class=\"data row1 col11\" >-0.75</td>\n",
       "    </tr>\n",
       "    <tr>\n",
       "      <th id=\"T_cb1f1_level0_row2\" class=\"row_heading level0 row2\" >2</th>\n",
       "      <td id=\"T_cb1f1_row2_col0\" class=\"data row2 col0\" >Heavy Ozone Pollution with Heat Exposure</td>\n",
       "      <td id=\"T_cb1f1_row2_col1\" class=\"data row2 col1\" >2.29</td>\n",
       "      <td id=\"T_cb1f1_row2_col2\" class=\"data row2 col2\" >0.90</td>\n",
       "      <td id=\"T_cb1f1_row2_col3\" class=\"data row2 col3\" >0.97</td>\n",
       "      <td id=\"T_cb1f1_row2_col4\" class=\"data row2 col4\" >2.53</td>\n",
       "      <td id=\"T_cb1f1_row2_col5\" class=\"data row2 col5\" >0.12</td>\n",
       "      <td id=\"T_cb1f1_row2_col6\" class=\"data row2 col6\" >0.04</td>\n",
       "      <td id=\"T_cb1f1_row2_col7\" class=\"data row2 col7\" >-0.14</td>\n",
       "      <td id=\"T_cb1f1_row2_col8\" class=\"data row2 col8\" >2.02</td>\n",
       "      <td id=\"T_cb1f1_row2_col9\" class=\"data row2 col9\" >1.47</td>\n",
       "      <td id=\"T_cb1f1_row2_col10\" class=\"data row2 col10\" >0.42</td>\n",
       "      <td id=\"T_cb1f1_row2_col11\" class=\"data row2 col11\" >-0.49</td>\n",
       "    </tr>\n",
       "  </tbody>\n",
       "</table>\n"
      ],
      "text/plain": [
       "<pandas.io.formats.style.Styler at 0x60c055590>"
      ]
     },
     "metadata": {},
     "output_type": "display_data"
    }
   ],
   "source": [
    "# Color coded table of meta-cluster z scores\n",
    "print(\"Meta-Cluster Type Summary (color-coded z-scores):\")\n",
    "\n",
    "# Compute summary by meta-cluster\n",
    "meta_summary = full_clean.groupby(\"meta_cluster\")[context_cols].mean()\n",
    "meta_summary = meta_summary.map(lambda x: round(x, 2))\n",
    "\n",
    "# Function to color-code z-score values\n",
    "def highlight_z(val):\n",
    "    if isinstance(val, (int, float)):\n",
    "        if val > 1.0:\n",
    "            return 'background-color: darkred; color: white'\n",
    "        elif val > 0.5:\n",
    "            return 'background-color: lightcoral'\n",
    "        elif val < -1.0:\n",
    "            return 'background-color: green; color: white'\n",
    "        elif val < -0.5:\n",
    "            return 'background-color: lightgreen'\n",
    "    return ''\n",
    "\n",
    "# Cluster interpretation dictionary\n",
    "meta_cluster_names = {\n",
    "    0: \"Average Conditions\",\n",
    "    1: \"Heavy Air Pollution with Stagnant Air\",\n",
    "    2: \"Heavy Ozone Pollution with Heat Exposure\"\n",
    "}\n",
    "\n",
    "# Add label to table\n",
    "meta_summary[\"cluster_name\"] = meta_summary.index.map(meta_cluster_names)\n",
    "\n",
    "# Add detailed z-score label\n",
    "def label_cluster(row):\n",
    "    label_parts = []\n",
    "    for col, val in row.items():\n",
    "        if col == \"cluster_name\":\n",
    "            continue\n",
    "        if val >= 1.0:\n",
    "            label_parts.append(f\"High {col}\")\n",
    "        elif 0.5 <= val < 1.0:\n",
    "            label_parts.append(f\"Mod {col}\")\n",
    "        elif -1.0 <= val < -0.5:\n",
    "            label_parts.append(f\"Low {col}\")\n",
    "        elif val < -1.0:\n",
    "            label_parts.append(f\"VeryLow {col}\")\n",
    "    return \", \".join(label_parts) if label_parts else \"Average\"\n",
    "\n",
    "meta_summary[\"cluster_label\"] = meta_summary.apply(label_cluster, axis=1)\n",
    "\n",
    "# Map cluster name back to full dataset\n",
    "full_clean[\"meta_cluster_name\"] = full_clean[\"meta_cluster\"].map(meta_cluster_names)\n",
    "\n",
    "# Reorder columns to show cluster_name first, exclude cluster label\n",
    "cols = [\"cluster_name\"] + [col for col in meta_summary.columns if col not in [\"cluster_name\", \"cluster_label\"]]\n",
    "\n",
    "# Display summary with color-coded z-scores\n",
    "styled_meta = meta_summary[cols].style.map(\n",
    "    highlight_z, subset=[col for col in cols if col != \"cluster_name\"]\n",
    ").format(precision=2)\n",
    "\n",
    "display(styled_meta)"
   ]
  },
  {
   "cell_type": "code",
   "execution_count": 10,
   "id": "243f6e88-bf39-4fd0-a832-5c8825068c10",
   "metadata": {},
   "outputs": [],
   "source": [
    "full_clean.drop(columns=[\"dbscan_cluster\", \"meta_cluster_name\"], inplace=True)"
   ]
  },
  {
   "cell_type": "code",
   "execution_count": 11,
   "id": "3db5db4d-28ed-4ae6-8fcc-13c71a9b3f23",
   "metadata": {},
   "outputs": [],
   "source": [
    "# full_clean.head()"
   ]
  },
  {
   "cell_type": "code",
   "execution_count": 15,
   "id": "f8345e6c-7f16-45b1-8652-23dd71c4c9ab",
   "metadata": {},
   "outputs": [
    {
     "name": "stdout",
     "output_type": "stream",
     "text": [
      "Concatenating meta-cluster assignments with final_cleaned.csv...\n",
      " Final dataset saved: reg-ready_meta-clusters.csv\n"
     ]
    }
   ],
   "source": [
    "# Combine meta-clusters with final dataset\n",
    "print(\"Concatenating meta-cluster assignments with final_cleaned.csv...\")\n",
    "\n",
    "# Load final_cleaned dataset\n",
    "final_df = pd.read_csv(\"final_cleaned.csv\", low_memory=False)\n",
    "\n",
    "# Sort to match order in full_clean\n",
    "final_df = final_df.sort_values(by=[\"state\", \"date\"]).reset_index(drop=True)\n",
    "\n",
    "# Drop SVD columns\n",
    "svd_cols = [col for col in full_clean.columns if col.startswith(\"svd_\")]\n",
    "full_clean.drop(columns=svd_cols, inplace=True)\n",
    "\n",
    "# Safety check\n",
    "if len(final_df) != len(full_clean):\n",
    "    raise ValueError(f\"Row count mismatch: final_cleaned={len(final_df)}, full_clean={len(full_clean)}\")\n",
    "\n",
    "# Add meta-cluster assignments to final_df\n",
    "final_df[\"meta_cluster\"] = full_clean[\"meta_cluster\"].values\n",
    "# final_df[\"meta_cluster_label\"] = full_clean[\"meta_cluster_label\"].values\n",
    "\n",
    "# Save final output\n",
    "final_df.to_csv(\"reg-ready_meta-clusters.csv\", index=False)\n",
    "print(\" Final dataset saved: reg-ready_meta-clusters.csv\")\n"
   ]
  },
  {
   "cell_type": "code",
   "execution_count": 13,
   "id": "0eea1aee-bdec-4e83-80a3-e8beff26aef7",
   "metadata": {},
   "outputs": [],
   "source": [
    "# final_df.head()"
   ]
  },
  {
   "cell_type": "code",
   "execution_count": null,
   "id": "bba8dda2-f0af-4c3c-88de-4f86c59dc0f7",
   "metadata": {},
   "outputs": [],
   "source": []
  }
 ],
 "metadata": {
  "kernelspec": {
   "display_name": "Python 3 (ipykernel)",
   "language": "python",
   "name": "python3"
  },
  "language_info": {
   "codemirror_mode": {
    "name": "ipython",
    "version": 3
   },
   "file_extension": ".py",
   "mimetype": "text/x-python",
   "name": "python",
   "nbconvert_exporter": "python",
   "pygments_lexer": "ipython3",
   "version": "3.13.5"
  }
 },
 "nbformat": 4,
 "nbformat_minor": 5
}
