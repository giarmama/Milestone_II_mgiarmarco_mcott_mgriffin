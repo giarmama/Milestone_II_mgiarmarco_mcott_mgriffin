{
 "cells": [
  {
   "cell_type": "code",
   "execution_count": 2,
   "id": "bea17c48-812f-4c21-9210-ad97f351627b",
   "metadata": {},
   "outputs": [],
   "source": [
    "from helper_functions import get_hourly_weather_data, get_hourly_aqi_data, hourly_to_daily, get_city_state\n",
    "import pandas as pd"
   ]
  },
  {
   "cell_type": "code",
   "execution_count": 4,
   "id": "9a29a091-a8e1-46e3-9424-95bbc0a7067a",
   "metadata": {},
   "outputs": [],
   "source": [
    "locations = {\n",
    "    'NYC': (40.7562, -73.9826),\n",
    "    'Chicago': (41.8758, -87.6328)\n",
    "}\n",
    "\n",
    "data_dict = {}\n",
    "\n",
    "for city, (lat,lon) in locations.items():\n",
    "    weather_df = get_hourly_weather_data(lat,lon)\n",
    "    aqi_df = get_hourly_aqi_data(lat,lon)\n",
    "\n",
    "    weather_daily = hourly_to_daily(weather_df)\n",
    "    aqi_daily = hourly_to_daily(aqi_df)\n",
    "\n",
    "    merged = pd.merge(weather_daily,aqi_daily,on=['date','city','state'],suffixes=('_weather','_aqi'))\n",
    "    merged.to_csv(f\"data/{city}_data_raw.csv\", index=False)\n",
    "    data_dict[city] = merged"
   ]
  },
  {
   "cell_type": "code",
   "execution_count": 7,
   "id": "9e903797-46cb-4bda-a5ea-62695bcbe788",
   "metadata": {},
   "outputs": [],
   "source": [
    "NYC_df = data_dict[\"NYC\"]\n",
    "Chicago_df = data_dict[\"Chicago\"]"
   ]
  }
 ],
 "metadata": {
  "kernelspec": {
   "display_name": "Python 3 (ipykernel)",
   "language": "python",
   "name": "python3"
  },
  "language_info": {
   "codemirror_mode": {
    "name": "ipython",
    "version": 3
   },
   "file_extension": ".py",
   "mimetype": "text/x-python",
   "name": "python",
   "nbconvert_exporter": "python",
   "pygments_lexer": "ipython3",
   "version": "3.11.9"
  }
 },
 "nbformat": 4,
 "nbformat_minor": 5
}
