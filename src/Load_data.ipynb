{
 "cells": [
  {
   "cell_type": "code",
   "execution_count": 1,
   "id": "bea17c48-812f-4c21-9210-ad97f351627b",
   "metadata": {},
   "outputs": [],
   "source": [
    "from helper_functions import get_weather_data, get_aqi_data\n",
    "import pandas as pd"
   ]
  },
  {
   "cell_type": "code",
   "execution_count": 2,
   "id": "9a29a091-a8e1-46e3-9424-95bbc0a7067a",
   "metadata": {},
   "outputs": [],
   "source": [
    "locations = {\n",
    "    'NYC': (40.7562, -73.9826),\n",
    "    'CHI': (41.8758, -87.6328)\n",
    "}\n",
    "\n",
    "data_dict = {}\n",
    "\n",
    "for state, (lat,lon) in locations.items():\n",
    "    weather_df = get_weather_data(state,lat,lon)\n",
    "    aqi_df = get_aqi_data(state,lat,lon)\n",
    "\n",
    "    merged = pd.merge(weather_df,aqi_df,on=['date','state'],suffixes=('_weather','_aqi'))\n",
    "    merged.to_csv(f\"data/{state}_data_raw.csv\", index=False)\n",
    "    data_dict[state] = merged"
   ]
  },
  {
   "cell_type": "code",
   "execution_count": 3,
   "id": "9e903797-46cb-4bda-a5ea-62695bcbe788",
   "metadata": {},
   "outputs": [],
   "source": [
    "NYC_df = data_dict[\"NYC\"]\n",
    "Chicago_df = data_dict[\"CHI\"]"
   ]
  },
  {
   "cell_type": "code",
   "execution_count": 4,
   "id": "28a7897e-3985-43ea-9252-d25f85bd566a",
   "metadata": {},
   "outputs": [
    {
     "data": {
      "text/plain": [
       "Index(['date', 'state', 'rain_sum', 'rain_max', 'snowfall_sum', 'snowfall_max',\n",
       "       'relative_humidity_2m_min', 'relative_humidity_2m_max',\n",
       "       'relative_humidity_2m_mean', 'apparent_temperature_min',\n",
       "       'apparent_temperature_max', 'wind_speed_10m_min', 'wind_speed_10m_max',\n",
       "       'wind_speed_10m_mean', 'wind_direction_10m_min',\n",
       "       'wind_direction_10m_max', 'wind_direction_10m_mean',\n",
       "       'apparent_temperature_min_lag', 'apparent_temperature_max_lag',\n",
       "       'us_aqi_pm2_5_min', 'us_aqi_pm2_5_max', 'us_aqi_pm2_5_mean',\n",
       "       'us_aqi_min', 'us_aqi_max', 'us_aqi_mean', 'us_aqi_pm10_min',\n",
       "       'us_aqi_pm10_max', 'us_aqi_pm10_mean', 'us_aqi_nitrogen_dioxide_min',\n",
       "       'us_aqi_nitrogen_dioxide_max', 'us_aqi_nitrogen_dioxide_mean',\n",
       "       'us_aqi_carbon_monoxide_min', 'us_aqi_carbon_monoxide_max',\n",
       "       'us_aqi_carbon_monoxide_mean', 'us_aqi_ozone_min', 'us_aqi_ozone_max',\n",
       "       'us_aqi_ozone_mean', 'us_aqi_sulphur_dioxide_min',\n",
       "       'us_aqi_sulphur_dioxide_max', 'us_aqi_sulphur_dioxide_mean',\n",
       "       'us_aqi_min_lag', 'us_aqi_max_lag', 'us_aqi_mean_lag'],\n",
       "      dtype='object')"
      ]
     },
     "execution_count": 4,
     "metadata": {},
     "output_type": "execute_result"
    }
   ],
   "source": [
    "NYC_df.columns"
   ]
  },
  {
   "cell_type": "code",
   "execution_count": null,
   "id": "3490c0de-95c5-462b-ac31-ff3ae27b82a7",
   "metadata": {},
   "outputs": [],
   "source": []
  }
 ],
 "metadata": {
  "kernelspec": {
   "display_name": "Python 3 (ipykernel)",
   "language": "python",
   "name": "python3"
  },
  "language_info": {
   "codemirror_mode": {
    "name": "ipython",
    "version": 3
   },
   "file_extension": ".py",
   "mimetype": "text/x-python",
   "name": "python",
   "nbconvert_exporter": "python",
   "pygments_lexer": "ipython3",
   "version": "3.11.9"
  }
 },
 "nbformat": 4,
 "nbformat_minor": 5
}
